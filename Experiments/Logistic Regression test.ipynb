{
 "cells": [
  {
   "cell_type": "markdown",
   "id": "422bf4e1",
   "metadata": {},
   "source": [
    "## Logistic regression with LDP\n",
    "\n",
    "### Non LDP Logistic regression with sklearn\n",
    "To set a benchmark to test our eventual implementation on we first take a dataset and feed it to an exisiting LR implementation from the sklearn module.\n",
    "\n",
    "The dataset to use is the 'Adult' dataset from the UCI repository.\n",
    "\n",
    "The data needs to be converted into numerical categorical values since we will only use these kinds of datasets in our research."
   ]
  },
  {
   "cell_type": "code",
   "execution_count": 7,
   "id": "b1c9c975",
   "metadata": {},
   "outputs": [
    {
     "name": "stdout",
     "output_type": "stream",
     "text": [
      "The counts of each possibile value of the classifications:\n",
      " {1: 2615, 2: 2601, 3: 2511, 4: 2672, 5: 2580, 6: 2637, 7: 2642, 8: 2576, 9: 2640, 10: 2574}\n",
      "2616.903050757105\n"
     ]
    }
   ],
   "source": [
    "import pandas as pd\n",
    "import numpy as np\n",
    "import random\n",
    "import math\n",
    "from sklearn.model_selection import train_test_split\n",
    "from scipy.stats import bernoulli\n",
    "from pure_ldp.frequency_oracles.direct_encoding import DEClient, DEServer\n",
    "\n",
    "raw_data = pd.read_csv(\"./Dataset/adult.data\")\n",
    "raw_data['bias'] = 1\n",
    "feature_columns = raw_data.columns\n",
    "epsilon = 4\n",
    "\n",
    "def tempDataConvertor():\n",
    "        raw_data = pd.read_csv(\"../Experiments/Dataset/adult.data\")\n",
    "        continuous_features = ['age','fnlwgt','education-num','capital-gain','capital-loss','hours-per-week']\n",
    "        continuous_data = _convert_continuous_data(raw_data[continuous_features])\n",
    "        discrete_features = ['workclass','education','marital-status','occupation','relationship','race','sex','native-country']\n",
    "        temp_data = pd.concat([continuous_data, raw_data[discrete_features]], axis=1)\n",
    "        discrete_data = _convert_discrete_data(temp_data)\n",
    "        Xs = discrete_data.loc[:, 'age':'native-country']\n",
    "        y = _convert_discrete_data(raw_data.loc[:,['income']], features=['income'])\n",
    "        return train_test_split(Xs, y, test_size=0.2, random_state=42)\n",
    "\n",
    "def _perturb_test(Xs, features, epsilon=4):\n",
    "    servers = []\n",
    "    for feature in features:\n",
    "        d = max(Xs[feature].unique())+1\n",
    "        DEClientClassification = DEClient(epsilon=epsilon, d=d)\n",
    "        DEServerClassification = DEServer(epsilon=epsilon, d=d)\n",
    "        Xs[feature] = Xs[feature].apply(lambda x: DEClientClassification.privatise(x+1))\n",
    "        Xs[feature].apply(lambda item : DEServerClassification.aggregate(item))\n",
    "        servers.append(DEServerClassification)\n",
    "    return servers\n",
    "    \n",
    "def _convert_discrete_data(data, features=None):\n",
    "    if features == None:\n",
    "        features = data.columns\n",
    "\n",
    "        for feature_name in features:\n",
    "            data[feature_name] = pd.Categorical(data[feature_name])\n",
    "            data[feature_name] = data[feature_name].cat.codes\n",
    "    else:\n",
    "        data[features[0]] = pd.Categorical(data[features[0]])\n",
    "        data = data[features[0]].cat.codes\n",
    "\n",
    "    return data\n",
    "\n",
    "def _convert_continuous_data(data):\n",
    "    features = data.columns\n",
    "    continuous_data = data[features].copy()\n",
    "    for feature in features:\n",
    "        continuous_data.loc[:,feature] = pd.qcut(continuous_data[feature], q=10, labels=False, duplicates=\"drop\")\n",
    "    return continuous_data\n",
    "\n",
    "X_train, X_test, y_train, y_test = tempDataConvertor()\n",
    "\n",
    "servers_features = _perturb_test(X_train, X_train.columns, epsilon)\n",
    "\n",
    "col = 1\n",
    "classUnique, classCounts = np.unique(X_train.iloc[:,col], return_counts=True)\n",
    "print(\"The counts of each possibile value of the classifications:\\n\",dict(zip(classUnique+1,classCounts)))\n",
    "print(servers_features[col].estimate(1))"
   ]
  },
  {
   "cell_type": "markdown",
   "id": "c101ced1",
   "metadata": {},
   "source": [
    "### Applying sklearn\n",
    "We import the sklearn logistic regression classifier.\n",
    "\n"
   ]
  },
  {
   "cell_type": "code",
   "execution_count": 2,
   "id": "cb479d69",
   "metadata": {},
   "outputs": [
    {
     "data": {
      "text/plain": [
       "Text(0.5, 1.0, 'Accuracy Score: 0.8088438507600184')"
      ]
     },
     "execution_count": 2,
     "metadata": {},
     "output_type": "execute_result"
    },
    {
     "data": {
      "image/png": "[encoded data removed]",
      "text/plain": [
       "<Figure size 648x648 with 2 Axes>"
      ]
     },
     "metadata": {
      "needs_background": "light"
     },
     "output_type": "display_data"
    }
   ],
   "source": [
    "from sklearn.linear_model import LogisticRegression\n",
    "import matplotlib.pyplot as plt\n",
    "import seaborn as sns\n",
    "from sklearn import metrics\n",
    "\n",
    "LRClassifier = LogisticRegression(max_iter=200).fit(X_train, y_train)\n",
    "predictions = LRClassifier.predict(X_test)\n",
    "score = LRClassifier.score(X_test,y_test)\n",
    "cm = metrics.confusion_matrix(y_test, predictions)\n",
    "plt.figure(figsize=(9,9))\n",
    "sns.heatmap(cm, annot=True, fmt=\".3f\", linewidths=.5, square = True, cmap = 'Blues_r');\n",
    "plt.ylabel('Actual label');\n",
    "plt.xlabel('Predicted label');\n",
    "all_sample_title = 'Accuracy Score: {0}'.format(score)\n",
    "plt.title(all_sample_title, size = 15)"
   ]
  },
  {
   "cell_type": "markdown",
   "id": "d0739814",
   "metadata": {},
   "source": [
    "### Change of plans\n",
    "Because it is not possible to use frequency estimation with logistic regression, we have decided to try another solution.\n",
    "This involves a different perturbation scheme that we will first need to get working an test it's effectiveness.\n",
    "The second step is to test if we can make a gradient descent algorithm were the users calculate the gradient and we take a mean of their values to adjust our weights.\n",
    "The last step is to incorporate the two into one algorithm\n",
    "\n",
    "### First part: Perturbation scheme with LaPlacian noise\n",
    "The first perturbation scheme is the simplest one. It is taken from a paper by Ning Wang called: \"Collecting and Analyzing Multidimensional Data\n",
    "with Local Differential Privacy\"\n",
    "\n",
    "The general idea of the perturbation scheme:\n",
    "\n",
    "We have a `epsilon` value the indicates the amount of privacy.\n",
    "\n",
    "The user provided data `t` has a range of [-1,1].\n",
    "\n",
    "To perturb `t` into `t*` we perform the following function: `t + Lap(2/epsilon)`. The `Lap(x)` indicates a LaPlace random variable with scale `x`. To do this in python we use numpy.random.laplace\n",
    "\n",
    "The aggregator can estimate the mean by a simple average calculation: `1/n Sum(t*)`\n",
    "\n",
    "Let's try this in python."
   ]
  },
  {
   "cell_type": "code",
   "execution_count": 3,
   "id": "ec380979",
   "metadata": {},
   "outputs": [
    {
     "data": {
      "text/plain": [
       "0.26887449481657166"
      ]
     },
     "execution_count": 3,
     "metadata": {},
     "output_type": "execute_result"
    }
   ],
   "source": [
    "# Perturbs a single value\n",
    "def laplacePerturb(t, epsilon=2):\n",
    "    return t + np.random.laplace(scale=2/epsilon)\n",
    "\n",
    "laplacePerturb(-0.5)"
   ]
  },
  {
   "cell_type": "markdown",
   "id": "ceb2a68f",
   "metadata": {},
   "source": [
    "Now for the aggregator function.\n",
    "\n",
    "It is simply a function that takes the mean of the data. So there is no compensation for added noise."
   ]
  },
  {
   "cell_type": "code",
   "execution_count": 4,
   "id": "42ac957e",
   "metadata": {},
   "outputs": [
    {
     "name": "stdout",
     "output_type": "stream",
     "text": [
      "No perturbation:  0.030646463069936406\n",
      "With perturbation:  0.38044782870137933\n"
     ]
    }
   ],
   "source": [
    "def aggregateMean(data):\n",
    "    n = len(data)\n",
    "    return (1/n * np.sum(data, axis=0))\n",
    "\n",
    "testSet = np.array([random.uniform(-1,1) for i in range(1000)])\n",
    "perturbedTestSet = [laplacePerturb(i, epsilon=0.5) for i in testSet]\n",
    "print(\"No perturbation: \",aggregateMean(testSet))\n",
    "print(\"With perturbation: \", aggregateMean(perturbedTestSet))"
   ]
  },
  {
   "cell_type": "markdown",
   "id": "2a098f2f",
   "metadata": {},
   "source": [
    "### Conclusion first part\n",
    "The perturbation scheme with LaPlacian noise is easy to implement.\n",
    "\n",
    "The drawbacks that are also mentioned in the paper are that this method is extremely simple and does not perform well for lower epsilon values. \n",
    "\n",
    "What should also be noted is that the sign value of the mean is not always correctly estimated. So when the mean value get's close to 0 the estimate might have a different sign (-/+) than the actual mean. When passing a gradient this means that the step taken to correct the weights will be in the wrong direction.\n",
    "\n",
    "### Second part: gradient descent with passed gradient values\n",
    "For this we need to construct a simple gradient descent algorithm and prove it works correcty. \n",
    "\n",
    "For this we require some functions:\n",
    "\n",
    "- A sigmoid function to make the prediction have a value between 0 and 1\n",
    "- A prediction function using that uses the user data and the given weights to make a prediction\n",
    "- A function to calculate the gradient at the user using their data.\n",
    "- A function that aggregates the gradients and performs a single gradient descent step."
   ]
  },
  {
   "cell_type": "code",
   "execution_count": 5,
   "id": "b5040c7b",
   "metadata": {},
   "outputs": [
    {
     "name": "stdout",
     "output_type": "stream",
     "text": [
      "Checking the gradient calculation goes correct:\n",
      "X:  [3, 4, 6]\n",
      "weights:  [0.2068188473978918, 0.2927230528206186, 0.09818026295561078]\n",
      "Predict:  0.9153227939021188\n",
      "Actual y:  1\n",
      "Prediction - y:  -0.08467720609788121\n",
      "Gradient calculation - X times error:  [-0.2540316182936436, -0.33870882439152483, -0.5080632365872872]\n",
      "\n",
      "Checking the gradient descent step goes correct:\n",
      "Mean gradient: [-0.25403162 -0.33870882 -0.50806324]\n",
      "Mean gradient times learning rate:  [-0.00254032 -0.00338709 -0.00508063]\n",
      "Update weights manualy:\t\t  [0.20935916 0.29611014 0.1032609 ]\n",
      "Single gradient descent step:\t  [0.20935916 0.29611014 0.1032609 ]\n"
     ]
    }
   ],
   "source": [
    "def stable_sigmoid(x):\n",
    "    sig = np.where(x < 0, np.exp(x)/(1 + np.exp(x)), 1/(1 + np.exp(-x)))\n",
    "    return sig\n",
    "\n",
    "def predict(X_data, weights):\n",
    "    return stable_sigmoid(np.dot(X_data, weights))\n",
    "\n",
    "# X and y data are considered a single row of data\n",
    "def calculateGradient(X_data, y_data, weights):\n",
    "    prediction = predict(X_data, weights)\n",
    "    gradient = np.dot((prediction - y_data),X_data)\n",
    "    # Clip the value of the gradient to fit [-1,1]\n",
    "    clippedGradient = [np.clip(g, -1, 1) for g in gradient]\n",
    "    return clippedGradient\n",
    "\n",
    "def singleGradientDescentStep(gradients, weights, learningRate):\n",
    "    return weights - learningRate * np.array(gradients)\n",
    "\n",
    "# Some test data\n",
    "X_data = [[np.random.choice(np.arange(1, 7), p=[0.1, 0.05, 0.05, 0.2, 0.4, 0.2]) for i in range(3)]for j in range(50)]\n",
    "y_data = [1 if X_data[i][2] > 4 else 0 for i in range(50)]\n",
    "weights = [random.random() for i in range(3)]\n",
    "learningRate = 0.01\n",
    "gradient = calculateGradient(X_data[0], y_data[0], weights)\n",
    "print(\"Checking the gradient calculation goes correct:\")\n",
    "print(\"X: \",X_data[0])\n",
    "print(\"weights: \", weights)\n",
    "print(\"Predict: \",predict(X_data[0], weights))\n",
    "print(\"Actual y: \", y_data[0])\n",
    "print(\"Prediction - y: \", predict(X_data[0], weights) - y_data[0])\n",
    "print(\"Gradient calculation - X times error: \", gradient)\n",
    "\n",
    "meanGradient = 1/len([gradient]) * np.sum([gradient], axis=0)\n",
    "learnGradient = meanGradient * learningRate\n",
    "print(\"\\nChecking the gradient descent step goes correct:\")\n",
    "print(\"Mean gradient:\", meanGradient)\n",
    "print(\"Mean gradient times learning rate: \", learnGradient)\n",
    "print(\"Update weights manualy:\\t\\t \", np.array([weight - learnGradient[i] for i, weight in enumerate(weights)]))\n",
    "print(\"Single gradient descent step:\\t \",singleGradientDescentStep(gradient, weights, learningRate))"
   ]
  },
  {
   "cell_type": "markdown",
   "id": "3186159e",
   "metadata": {},
   "source": [
    "### Questions\n",
    "Now that we have tried something with a value of a single user, we can perform a single step for 50 values for example. The mean gradient is different and should nudge the weights into a more general prediction. \n",
    "\n",
    "This however is still one step in gradient descent. We need to perform this many more times. Does this mean we have to ask the user to give us an updated value for their gradient at each step of the gradient descent? Or are we reusing the gradient values based on the first set of weight? That does not sound logicall because it would move us into one direction until the max iterations are hit or we hit a minimum. But if the initial step is incorrect, we drift further away from the minimum. So it look like there needs to be some sort of update.\n",
    "\n",
    "We need to pass the gradient but this needs to be a value between [-1, 1] because of our perturbation algorithm. Answer: We clip the value of the gradient to be between -1 and 1.\n",
    "\n",
    "### Third part: 'sending' user perturbed gradients and use that in gradient descent\n",
    "So for the last part we need to combine the two previous steps.\n",
    "\n",
    "We start by calculating the gradients with a given weight. \n",
    "\n",
    "Next we perturb the gradient\n",
    "\n",
    "At the server these are aggregated and a mean value is taken for each feature.\n",
    "\n",
    "The last step is the gradient descent algorithm"
   ]
  },
  {
   "cell_type": "code",
   "execution_count": 6,
   "id": "54ef8946",
   "metadata": {},
   "outputs": [
    {
     "name": "stdout",
     "output_type": "stream",
     "text": [
      "The laplace mean gradient:\t  [ 0.51  0.69  0.69  0.04 -0.13  0.65  0.84  0.75  0.71  0.7   0.54  0.68\n",
      "  0.55  0.67]\n",
      "The actual gradient:\t\t  [0.61 0.67 0.64 0.   0.   0.61 0.73 0.72 0.66 0.71 0.53 0.73 0.52 0.74]\n",
      "Original weights:\n",
      "  [0.105 0.908 0.229 0.037 0.085 0.393 0.324 0.706 0.685 0.994 0.702 0.366\n",
      " 0.118 0.197]\n",
      "Updated weights after a single gradient descent step:\n",
      "  [0.1   0.901 0.222 0.036 0.086 0.386 0.315 0.698 0.678 0.987 0.697 0.359\n",
      " 0.112 0.191]\n"
     ]
    },
    {
     "data": {
      "image/png": "[encoded data removed]",
      "text/plain": [
       "<Figure size 648x648 with 2 Axes>"
      ]
     },
     "metadata": {
      "needs_background": "light"
     },
     "output_type": "display_data"
    }
   ],
   "source": [
    "from sklearn.metrics import accuracy_score\n",
    "import seaborn as sns\n",
    "from sklearn import metrics\n",
    "\n",
    "startWeights = [random.random() for i in range(X_train.shape[1])]\n",
    "testGradient = [calculateGradient(X_train.iloc[i,:], y_train.iloc[i], startWeights) for i in range(100)]\n",
    "\n",
    "perturbedData = [[laplacePerturb(gradient, epsilon=epsilon) for gradient in testGradient[j]] for j in range(len(testGradient))]\n",
    "\n",
    "aggregatedMean = aggregateMean(perturbedData)\n",
    "print(\"The laplace mean gradient:\\t \", np.round(aggregatedMean, 2))\n",
    "print(\"The actual gradient:\\t\\t \", np.round(1/len(testGradient) * np.sum(testGradient, axis=0),2))\n",
    "\n",
    "newWeights = singleGradientDescentStep(aggregatedMean, startWeights, learningRate)\n",
    "print(\"Original weights:\\n \", np.round(startWeights,3))\n",
    "print(\"Updated weights after a single gradient descent step:\\n \", np.round(newWeights,3))\n",
    "\n",
    "def clientActor(weights):\n",
    "    testGradient = [calculateGradient(X_train.iloc[i,:], y_train.iloc[i], weights) for i in range(100)]\n",
    "    return [[laplacePerturb(gradient, epsilon=epsilon) for gradient in row] for row in testGradient]\n",
    "\n",
    "def fullGradientDescent(initialWeights, iterations=50, learningRate=0.1, threshold=0.005):\n",
    "    weights = initialWeights\n",
    "    previousWeights = [w+threshold*2 for w in weights]\n",
    "    for i in range(iterations):\n",
    "        perturbedData = clientActor(weights)\n",
    "        mean = aggregateMean(perturbedData) # The mean for each feature gradient\n",
    "        weights = singleGradientDescentStep(mean, weights, learningRate)\n",
    "        diff = max(np.absolute(weights-previousWeights))\n",
    "        previousWeights = weights\n",
    "        if diff < threshold:\n",
    "            return weights\n",
    "    return weights\n",
    "        \n",
    "newWeights = fullGradientDescent(startWeights, iterations=200, learningRate=5)\n",
    "results = [np.round(predict(X_test.iloc[i,:], newWeights)) for i in range(X_test.shape[0])]\n",
    "\n",
    "cm = metrics.confusion_matrix(y_test, results)\n",
    "score = accuracy_score(y_test, results)\n",
    "plt.figure(figsize=(9,9))\n",
    "sns.heatmap(cm, annot=True, fmt=\".3f\", linewidths=.5, square = True, cmap = 'Blues_r');\n",
    "plt.ylabel('Actual label');\n",
    "plt.xlabel('Predicted label');\n",
    "all_sample_title = 'Accuracy Score: {0}'.format(score)\n",
    "plt.title(all_sample_title, size = 15);"
   ]
  },
  {
   "cell_type": "markdown",
   "id": "f182e688",
   "metadata": {},
   "source": [
    "### Testing other LDP mechanisms\n",
    "The paper descibes other LDP mechanism. Let's see how they estimate the mean value of the given data.\n",
    "\n",
    "First Duchi et al.'s implementation:\n",
    "\n",
    "The input has a domain of [-1,1]\n",
    "\n",
    "The output has a domain of {- (e^epsilon +1) / (e^epsilon - 1), (e^epsilon +1) / (e^epsilon - 1)}\n",
    "\n",
    "The aggregate is again a simple average calculation."
   ]
  },
  {
   "cell_type": "code",
   "execution_count": 92,
   "id": "bcc7a8a4",
   "metadata": {},
   "outputs": [
    {
     "name": "stdout",
     "output_type": "stream",
     "text": [
      "-10.033311132253989\n"
     ]
    }
   ],
   "source": [
    "def duchiPerturb(t, epsilon=2):\n",
    "    cons = (math.pow(math.e, epsilon) + 1) / (math.pow(math.e, epsilon) - 1)\n",
    "    p = ((math.pow(math.e, epsilon) - 1) / (2 * (math.pow(math.e, epsilon) + 1))) * t + (1/2)\n",
    "    u = bernoulli.rvs(p, size=1)\n",
    "    if u:\n",
    "        return cons\n",
    "    else:\n",
    "        return -cons\n",
    "\n",
    "testSet = np.array([random.uniform(-1,1) for i in range(100000)])\n",
    "perturbedTestSet = [duchiPerturb(i, epsilon=1) for i in testSet]\n",
    "print(\"No perturbation: \",aggregateMean(testSet))\n",
    "print(\"With perturbation: \", aggregateMean(perturbedTestSet))"
   ]
  },
  {
   "cell_type": "markdown",
   "id": "be01d225",
   "metadata": {},
   "source": [
    "Second is the Piecewise Mechainsm for one-dimensional numerical data\n",
    "\n",
    "The input has a domain of [-1,1]\n",
    "\n",
    "We sample a random value for `x` from domain [0,1].\n",
    "\n",
    "If `x < (e^(epsilon/2)) / (e^(epsilon/2) + 1)` select a value from [l(t), r(t)]\n",
    "\n",
    "else select a value from [-C, l(t) U r(t), C]"
   ]
  },
  {
   "cell_type": "code",
   "execution_count": 154,
   "id": "ce08e50c",
   "metadata": {},
   "outputs": [
    {
     "name": "stdout",
     "output_type": "stream",
     "text": [
      "No perturbation:  -0.0026644289116047972\n",
      "With perturbation:  -0.0027926625100338255\n"
     ]
    }
   ],
   "source": [
    "def piecewisePerturb(t, epsilon=2):\n",
    "    x = np.random.uniform(0,1)\n",
    "    checkValue = (math.exp(epsilon/2)) / (math.exp(epsilon/2) + 1)\n",
    "    C = (math.exp(epsilon / 2) + 1) / (math.exp(epsilon / 2) - 1)\n",
    "    lt = ((C + 1) / 2) * t - ((C - 1) / 2)\n",
    "    rt = lt + C - 1\n",
    "    if x < checkValue:\n",
    "        return np.random.uniform(lt, rt)\n",
    "    else:\n",
    "        temp = np.random.uniform(-C, C)\n",
    "        while temp >= lt and temp <= rt:\n",
    "            temp = np.random.uniform(-C, C)\n",
    "        return temp\n",
    "        \n",
    "testSet = np.array([random.uniform(-1,1) for i in range(100000)])\n",
    "perturbedTestSet = [piecewisePerturb(i, epsilon=10) for i in testSet]\n",
    "print(\"No perturbation: \",aggregateMean(testSet))\n",
    "print(\"With perturbation: \", aggregateMean(perturbedTestSet))"
   ]
  }
 ],
 "metadata": {
  "kernelspec": {
   "display_name": "Python 3 (ipykernel)",
   "language": "python",
   "name": "python3"
  },
  "language_info": {
   "codemirror_mode": {
    "name": "ipython",
    "version": 3
   },
   "file_extension": ".py",
   "mimetype": "text/x-python",
   "name": "python",
   "nbconvert_exporter": "python",
   "pygments_lexer": "ipython3",
   "version": "3.9.8"
  }
 },
 "nbformat": 4,
 "nbformat_minor": 5
}
