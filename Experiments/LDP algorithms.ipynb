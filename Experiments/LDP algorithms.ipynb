{
 "cells": [
  {
   "cell_type": "markdown",
   "id": "24e9a4ad",
   "metadata": {},
   "source": [
    "# LDP algorithm implementations\n",
    "\n",
    "This notebook is used to make an implementation for two different LDP perturbation algorithms. The algorithms are based on the paper by Cormode et al. called: Frequency Estimation under Local Differential Privacy, \n",
    "\n",
    "and the paper by Wang et al. called: Locally Differentially Provate protocols for Frequency Estimation\n",
    "\n",
    "We will look at two different implementations of LDP algorithms:\n",
    "- Unary Encoding (UE)\n",
    "- BASIC-RAPPOR\n",
    "\n",
    "## Plan\n",
    "- Split the algorithm into two parts:\n",
    "    - The encoding of the private data\n",
    "    - The pertubation of private data\n",
    "- Estimate the frequency from the aggregate of the perturbed data\n",
    "\n",
    "---\n",
    "\n",
    "## Unary Encoding\n",
    "## Step 1: make data private at the client\n",
    "### Encoding\n",
    "The general idea behind unary encoding starts with changing the data into an array of bits. \n",
    "\n",
    "So for example:\n",
    "\n",
    "Domain of v: {1,2,3,4}\n",
    "\n",
    "v = 3 \n",
    "\n",
    "Encoded v will be: [0,0,1,0]"
   ]
  },
  {
   "cell_type": "code",
   "execution_count": 1,
   "id": "85d5818f",
   "metadata": {},
   "outputs": [
    {
     "data": {
      "text/plain": [
       "[0, 0, 1, 0]"
      ]
     },
     "execution_count": 1,
     "metadata": {},
     "output_type": "execute_result"
    }
   ],
   "source": [
    "v = 3\n",
    "domain_v = 4\n",
    "\n",
    "def encode(response, domain):\n",
    "    return [1 if d+1 == response else 0 for d in range(domain)]\n",
    "\n",
    "# Check if the encoding algorithm works with v=3:\n",
    "encoded_v = encode(v, domain_v)\n",
    "encoded_v"
   ]
  },
  {
   "cell_type": "markdown",
   "id": "2aa95679",
   "metadata": {},
   "source": [
    "### Perturbation\n",
    "Perturbing data in UE is based on two operations:\n",
    "- The 1 that indicates the value of v must be flipped with probability p\n",
    "- The 0's must be flipped with probability q\n",
    "\n",
    "We need to select `p` and `q` with `epsilon` set to our default value of 2, so that the following holds:\n",
    "`p(1-q) / (1-p)q = exp(epsilon)`\n",
    "\n",
    "So if we choose `p` to be 0.8 than solvin the equation will give `q` = 0.35"
   ]
  },
  {
   "cell_type": "code",
   "execution_count": 2,
   "id": "ec5ae11a",
   "metadata": {},
   "outputs": [
    {
     "data": {
      "text/plain": [
       "[1, 0, 1, 0]"
      ]
     },
     "execution_count": 2,
     "metadata": {},
     "output_type": "execute_result"
    }
   ],
   "source": [
    "import numpy as np\n",
    "import math\n",
    "\n",
    "p = 0.8\n",
    "q = 0.35\n",
    "\n",
    "def perturb(encoded_response):\n",
    "    return [perturb_bit(b, p, q) for b in encoded_response]\n",
    "\n",
    "def perturb_bit(bit, _p, _q):\n",
    "    sample = np.random.random() # produces number between [0,1)\n",
    "    if bit == 1:\n",
    "        if sample <= _p:\n",
    "            return 1\n",
    "        else:\n",
    "            return 0\n",
    "    elif bit == 0:\n",
    "        if sample <= _q:\n",
    "            return 1\n",
    "        else: \n",
    "            return 0\n",
    "        \n",
    "perturb(encoded_v)"
   ]
  },
  {
   "cell_type": "markdown",
   "id": "8dd1f4c8",
   "metadata": {},
   "source": [
    "## Step 2: aggregate data at server\n",
    "Now that we have a way to privatize the data, we can send it to the server without any privact worries.\n",
    "\n",
    "At the server we can estimate the frequency of each item in the domain.\n",
    "\n",
    "For this we first make a summation of all the data per item in the domain.\n",
    "\n",
    "With this we can apply the following function: `(sum_data - n * q) / (p - q)` \n",
    "From the summed data we remove the estimated amount of \"false\" data we put in with the perturbation function. "
   ]
  },
  {
   "cell_type": "code",
   "execution_count": 3,
   "id": "909701b9",
   "metadata": {},
   "outputs": [],
   "source": [
    "def aggregate(responses):\n",
    "    # Take the sum of all the columns (axis=0), ie. go over all the bits that represent the encoded response.\n",
    "    sums = np.sum(responses, axis=0)\n",
    "    n = len(responses)\n",
    "    \n",
    "    return [math.floor((v - n*q) / (p-q)) for v in sums]"
   ]
  },
  {
   "cell_type": "markdown",
   "id": "82bdf1df",
   "metadata": {},
   "source": [
    "## Try an example\n",
    "Let's make some data to try out an example."
   ]
  },
  {
   "cell_type": "code",
   "execution_count": 4,
   "id": "1178197c",
   "metadata": {},
   "outputs": [
    {
     "name": "stdout",
     "output_type": "stream",
     "text": [
      "Some raw data:  [[1, 0, 0, 0], [1, 0, 0, 0], [0, 1, 0, 0], [0, 1, 0, 0], [0, 1, 0, 0]]\n",
      "Some perturbed data:  [[1, 0, 0, 0], [1, 0, 0, 0], [0, 1, 0, 0], [1, 0, 1, 0], [1, 1, 0, 0]]\n",
      "Sum of the raw data:  [4964 3030 1488  518]\n",
      "Estimate sum of perturbed data:  [4831, 3042, 1531, 571]\n"
     ]
    }
   ],
   "source": [
    "n = 10000\n",
    "data = [encode(np.random.choice(range(domain_v), p=[0.5,0.3,0.15,0.05]) + 1, domain_v) for i in range(n)]\n",
    "print(\"Some raw data: \",data[:5])\n",
    "\n",
    "perturbed_data = [perturb(item) for item in data]\n",
    "print(\"Some perturbed data: \", perturbed_data[:5])\n",
    "\n",
    "sum_raw_data = np.sum(data, axis=0)\n",
    "print(\"Sum of the raw data: \", sum_raw_data)\n",
    "\n",
    "print(\"Estimate sum of perturbed data: \", aggregate(perturbed_data))\n"
   ]
  },
  {
   "cell_type": "markdown",
   "id": "983407f9",
   "metadata": {},
   "source": [
    "## Basic Rappor\n",
    "## Step 1:\n",
    "### Encoding\n",
    "Encoding is the same as unary encoding so that function can be reused.\n",
    "\n",
    "### Perturbation\n",
    "Perturbation is performed in **two** steps:\n",
    "### RAPPOR Step 1:\n",
    "Use a variable `f` to construct the first perturbation step following this formula:\n",
    "\n",
    "`if B[i] = 1 : 1 - 1/2f`\n",
    "\n",
    "`if B[i] = 0 : 1/2f`\n",
    "\n",
    "The randomization of symmetric. So the probability that a 1 stays a 1 is equal to a 0 staying a zero.\n",
    "\n",
    "This step is done **once** for each value `v` that the user has."
   ]
  },
  {
   "cell_type": "code",
   "execution_count": 5,
   "id": "1f8cb553",
   "metadata": {},
   "outputs": [
    {
     "data": {
      "text/plain": [
       "[0, 0, 1, 0]"
      ]
     },
     "execution_count": 5,
     "metadata": {},
     "output_type": "execute_result"
    }
   ],
   "source": [
    "def rappor_step_one(encoded_response, f_value=0.5):\n",
    "    p = 1 - (0.5 * f_value)\n",
    "    q = 0.5 * f_value\n",
    "    return [perturb_bit(b, p, q) for b in encoded_response]\n",
    "        \n",
    "rappor_step_one(encode(3,4))"
   ]
  },
  {
   "cell_type": "markdown",
   "id": "fa526121",
   "metadata": {},
   "source": [
    "### RAPPOR Step 2:\n",
    "The same step is done but now with `p` and `q` set to different values. The randomization is **symmetric** again because here `p + q = 1`\n",
    "\n",
    "This step is done **every** time a user reports the value. "
   ]
  },
  {
   "cell_type": "code",
   "execution_count": 6,
   "id": "9c910c72",
   "metadata": {},
   "outputs": [
    {
     "data": {
      "text/plain": [
       "[1, 1, 1, 0]"
      ]
     },
     "execution_count": 6,
     "metadata": {},
     "output_type": "execute_result"
    }
   ],
   "source": [
    "def rappor_step_two(encoded_response, _p):\n",
    "    p = _p\n",
    "    q = 1 - p\n",
    "    return [perturb_bit(b, p, q) for b in encoded_response]\n",
    "\n",
    "rappor_step_two(rappor_step_one(encode(3,4)), 0.75)"
   ]
  },
  {
   "cell_type": "markdown",
   "id": "cb1413e4",
   "metadata": {},
   "source": [
    "## Step 2:\n",
    "### Aggregation\n",
    "First we count the number of vectors that have their i'th bit set to 1. \n",
    "Then we correct this number for randomization.\n",
    "\n",
    "In my example I follow the paper that says when a user does not re-report it's value, only the rappor_step_one should be used."
   ]
  },
  {
   "cell_type": "code",
   "execution_count": 7,
   "id": "7e762f4f",
   "metadata": {},
   "outputs": [
    {
     "name": "stdout",
     "output_type": "stream",
     "text": [
      "Some perturbed data:  [[1, 0, 0, 1], [0, 0, 0, 0], [0, 1, 1, 1], [0, 1, 0, 0], [0, 1, 0, 0]]\n",
      "Sum of the raw data:  [4964 3030 1488  518]\n",
      "Estimate sum of perturbed data:  [4916.0, 3160.0, 1296.0, 472.0]\n"
     ]
    }
   ],
   "source": [
    "def aggregate_rappor(responses, f_value):\n",
    "    sums = np.sum(responses, axis=0)\n",
    "    n = len(responses)\n",
    "    return [(v - (0.5 * f_value * n)) / (1 - f_value) for v in sums]\n",
    "\n",
    "perturbed_data = [rappor_step_one(item) for item in data]\n",
    "\n",
    "print(\"Some perturbed data: \", perturbed_data[:5])\n",
    "print(\"Sum of the raw data: \", sum_raw_data)\n",
    "print(\"Estimate sum of perturbed data: \", aggregate_rappor(perturbed_data, 0.5))"
   ]
  }
 ],
 "metadata": {
  "kernelspec": {
   "display_name": "Python 3 (ipykernel)",
   "language": "python",
   "name": "python3"
  },
  "language_info": {
   "codemirror_mode": {
    "name": "ipython",
    "version": 3
   },
   "file_extension": ".py",
   "mimetype": "text/x-python",
   "name": "python",
   "nbconvert_exporter": "python",
   "pygments_lexer": "ipython3",
   "version": "3.9.8"
  }
 },
 "nbformat": 4,
 "nbformat_minor": 5
}
